{
  "nbformat": 4,
  "nbformat_minor": 0,
  "metadata": {
    "colab": {
      "name": "Copy of calc_may3.ipynb",
      "provenance": [],
      "collapsed_sections": [],
      "authorship_tag": "ABX9TyPm3+ELiMH4ISfWALVCLtLO",
      "include_colab_link": true
    },
    "kernelspec": {
      "name": "python3",
      "display_name": "Python 3"
    },
    "language_info": {
      "name": "python"
    }
  },
  "cells": [
    {
      "cell_type": "markdown",
      "metadata": {
        "id": "view-in-github",
        "colab_type": "text"
      },
      "source": [
        "<a href=\"https://colab.research.google.com/github/joshuakh7/hello-world/blob/master/Copy_of_calc_may3.ipynb\" target=\"_parent\"><img src=\"https://colab.research.google.com/assets/colab-badge.svg\" alt=\"Open In Colab\"/></a>"
      ]
    },
    {
      "cell_type": "code",
      "execution_count": null,
      "metadata": {
        "colab": {
          "base_uri": "https://localhost:8080/"
        },
        "id": "t4WiHkW94sIS",
        "outputId": "cd5d4441-1b41-460a-9363-8796d1297174"
      },
      "outputs": [
        {
          "output_type": "execute_result",
          "data": {
            "text/plain": [
              "[0.8710008559799566,\n",
              " 1.231936056928417,\n",
              " 1.0080639430715832,\n",
              " 1.12,\n",
              " -1.870866433571444,\n",
              " 2.2387211385683394]"
            ]
          },
          "metadata": {},
          "execution_count": 13
        }
      ],
      "source": [
        "import math as m\n",
        "\n",
        "b=10*m.log10(1.3/2)\n",
        "a=1.12\n",
        "c=10**(3.5/10)\n",
        "h=a+10**(-6.5/10)/2\n",
        "l=a-10**(-6.5/10)/2\n",
        "[10*m.log10(h/l),h,l, a,b,c]"
      ]
    },
    {
      "cell_type": "code",
      "source": [
        ""
      ],
      "metadata": {
        "id": "6bfDKySX2ZA7"
      },
      "execution_count": null,
      "outputs": []
    },
    {
      "cell_type": "code",
      "execution_count": null,
      "metadata": {
        "colab": {
          "base_uri": "https://localhost:8080/"
        },
        "outputId": "683ea709-d5b5-433a-a7ac-00bedbecc5ff",
        "id": "Ou8Vupi02alQ"
      },
      "outputs": [
        {
          "output_type": "execute_result",
          "data": {
            "text/plain": [
              "[0.0006000000000000001]"
            ]
          },
          "metadata": {},
          "execution_count": 2
        }
      ],
      "source": [
        "import math as m\n",
        "c=3e8\n",
        "ri=1.5\n",
        "[3e-12*(c/ri)]"
      ]
    },
    {
      "cell_type": "code",
      "source": [
        "import math as m\n",
        "import numpy as np\n",
        "import matplotlib.pyplot as plt\n",
        "er=3.5\n",
        "\n",
        "def ALP(OMA,er):#\n",
        "    return 10*m.log10(0.5)+10*m.log10((10**(er/10)+1)/(10**(er/10)-1))+OMA \n",
        "    #np.exp(-t) * np.cos(2*np.pi*t)\n",
        "#er=np.arange(3.5,10, 35)\n",
        "OMA = np.arange(-4.5, 1.5, 0.1)\n",
        "\n",
        "plt.figure()\n",
        "plt.subplot(211)\n",
        "plt.plot(OMA, ALP(OMA,3.5), 'b-', OMA, ALP(OMA,10), 'r+', OMA, ALP(OMA,1000), 'g-')\n",
        "#plt.subplot(212)\n",
        "#plt.plot(t2, np.cos(2*np.pi*t2), 'r--')\n",
        "plt.show()"
      ],
      "metadata": {
        "colab": {
          "base_uri": "https://localhost:8080/",
          "height": 147
        },
        "id": "kZCkFwTpD44S",
        "outputId": "ff4090f3-55f0-4860-c03a-f69819ffd975"
      },
      "execution_count": null,
      "outputs": [
        {
          "output_type": "display_data",
          "data": {
            "text/plain": [
              "<Figure size 432x288 with 1 Axes>"
            ],
            "image/png": "[encoded data removed]"
          },
          "metadata": {
            "needs_background": "light"
          }
        }
      ]
    },
    {
      "cell_type": "code",
      "source": [
        "import numpy as np\n",
        "import matplotlib.pyplot as plt\n",
        "def f(t):\n",
        "    return np.exp(-t) * np.cos(2*np.pi*t)\n",
        "\n",
        "OMA = np.arange(-4.5, 1.5, 0.1)\n",
        "t2 = np.arange(0.0, 5.0, 0.02)\n",
        "\n",
        "plt.figure()\n",
        "plt.subplot(211)\n",
        "plt.plot(t1, f(t1), 'bo', t2, f(t2), 'k')\n",
        "\n",
        "plt.subplot(212)\n",
        "plt.plot(t2, np.cos(2*np.pi*t2), 'r--')\n",
        "plt.show()\n",
        "t1"
      ],
      "metadata": {
        "id": "fWxUdT-MDivv"
      },
      "execution_count": null,
      "outputs": []
    },
    {
      "cell_type": "code",
      "source": [
        "import math as m\n",
        "import numpy as np\n",
        "import matplotlib.pyplot as plt\n",
        "#er=3.5\n",
        "w = np.arange(0.001, 1, 0.001)\n",
        "fr=7.5e9\n",
        "wr=2*np.pi*fr\n",
        "p=1j*w/wr\n",
        "y=2.114*p\n",
        "\n",
        "def tf(y):#\n",
        "    return 105/(105+105*y+45*pow(y,2)+10*pow(y,3)+pow(y,4))  \n",
        "\n",
        "plt.figure()\n",
        "plt.subplot(211)\n",
        "#print(tf(w))\n",
        "#k=m.log10(tf(w))\n",
        "plt.plot(w, pow((pow(tf(w).real,2)+pow(tf(w).imag,2)),0.5), 'b-')\n",
        "plt.plot(w, tf(w).real,'r-', w, tf(w).imag, 'b-')\n",
        "\n",
        "#plt.plot(w, k,'r-')\n",
        "#plt.subplot(212)\n",
        "#plt.plot(t2, np.cos(2*np.pi*t2), 'r--')\n",
        "plt.show()"
      ],
      "metadata": {
        "colab": {
          "base_uri": "https://localhost:8080/",
          "height": 147
        },
        "id": "oOS6iStftvST",
        "outputId": "67cade0b-6d68-48d3-e2a6-079f3df6923f"
      },
      "execution_count": null,
      "outputs": [
        {
          "output_type": "display_data",
          "data": {
            "text/plain": [
              "<Figure size 432x288 with 1 Axes>"
            ],
            "image/png": "[encoded data removed]"
          },
          "metadata": {
            "needs_background": "light"
          }
        }
      ]
    },
    {
      "cell_type": "code",
      "source": [
        "import math as m\n",
        "10*m.log10(11/9)"
      ],
      "metadata": {
        "colab": {
          "base_uri": "https://localhost:8080/"
        },
        "id": "WPmXExaw5cRD",
        "outputId": "8b926d30-d350-408f-e3af-7b1b761f13a2"
      },
      "execution_count": null,
      "outputs": [
        {
          "output_type": "execute_result",
          "data": {
            "text/plain": [
              "0.871501757189002"
            ]
          },
          "metadata": {},
          "execution_count": 2
        }
      ]
    },
    {
      "cell_type": "code",
      "source": [
        "0.4*2.23"
      ],
      "metadata": {
        "colab": {
          "base_uri": "https://localhost:8080/"
        },
        "id": "kj8YDLb8TSTa",
        "outputId": "dc60e67d-9143-42d2-a167-fc7b6551e326"
      },
      "execution_count": null,
      "outputs": [
        {
          "output_type": "execute_result",
          "data": {
            "text/plain": [
              "0.892"
            ]
          },
          "metadata": {},
          "execution_count": 12
        }
      ]
    },
    {
      "cell_type": "code",
      "source": [
        "import math\n",
        "math.sqrt(2/3)"
      ],
      "metadata": {
        "colab": {
          "base_uri": "https://localhost:8080/"
        },
        "id": "uQskw4k8GP-_",
        "outputId": "f3e1773c-6530-4bc9-fd5a-d656e19bab90"
      },
      "execution_count": null,
      "outputs": [
        {
          "output_type": "execute_result",
          "data": {
            "text/plain": [
              "0.816496580927726"
            ]
          },
          "metadata": {},
          "execution_count": 2
        }
      ]
    },
    {
      "cell_type": "code",
      "source": [
        "import math\n",
        "math.sqrt(420e-12/270e-15)"
      ],
      "metadata": {
        "id": "hKidWw1-Gc1F",
        "colab": {
          "base_uri": "https://localhost:8080/"
        },
        "outputId": "e1c8cab6-6cb3-4297-c6d1-5cbf286bab7b"
      },
      "execution_count": null,
      "outputs": [
        {
          "output_type": "execute_result",
          "data": {
            "text/plain": [
              "39.44053188733077"
            ]
          },
          "metadata": {},
          "execution_count": 3
        }
      ]
    },
    {
      "cell_type": "code",
      "source": [
        "#!/usr/bin/env python3\n",
        "from tkinter import *\n",
        "window = Tk() \t\t\t\t\t\t\t# Create the root (base) window \n",
        "window.title('Hello Python')\n",
        "window.geometry(\"300x200+10+20\")\n",
        "window.mainloop()\n",
        "\n",
        "# add widgets here\n",
        "\n"
      ],
      "metadata": {
        "id": "8GdsaoIWgDkn"
      },
      "execution_count": null,
      "outputs": []
    },
    {
      "cell_type": "code",
      "source": [
        "from tkinter import *\n",
        "root=Tk()\n",
        "# add widgets here\n",
        "\n",
        "window.title('Hello Python')\n",
        "window.geometry(\"300x200+10+20\")\n",
        "window.mainloop()"
      ],
      "metadata": {
        "id": "fFppVWaxhsBU"
      },
      "execution_count": null,
      "outputs": []
    }
  ]
}